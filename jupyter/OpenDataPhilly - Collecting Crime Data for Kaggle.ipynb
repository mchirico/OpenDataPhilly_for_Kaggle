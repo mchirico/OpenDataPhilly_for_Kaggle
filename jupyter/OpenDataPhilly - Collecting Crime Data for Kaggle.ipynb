{
 "cells": [
  {
   "cell_type": "markdown",
   "metadata": {},
   "source": [
    "This data was collected from OpenDataPhilly:\n",
    "\n",
    "https://www.opendataphilly.org/dataset/crime-incidents\n",
    "\n",
    "\n",
    "The Kaggle Dataset can be found below:\n",
    "\n",
    "https://www.kaggle.com/mchirico/philadelphiacrimedata\n",
    "\n"
   ]
  },
  {
   "cell_type": "code",
   "execution_count": 8,
   "metadata": {
    "collapsed": false
   },
   "outputs": [
    {
     "name": "stdout",
     "output_type": "stream",
     "text": [
      "/tmp/working/src\r\n"
     ]
    }
   ],
   "source": [
    "!pwd"
   ]
  },
  {
   "cell_type": "code",
   "execution_count": 9,
   "metadata": {
    "collapsed": false
   },
   "outputs": [
    {
     "name": "stdout",
     "output_type": "stream",
     "text": [
      "911.csv\t\t\t\t      PPnh.csv\t crime.csv.zip\t  stack.csv\r\n",
      "PP.csv\t\t\t\t      _load.sql  crime_db.sqlite  test.csv\r\n",
      "PPD_Crime_Incidents_2006-Present.csv  crime.csv  database.sqlite\r\n"
     ]
    }
   ],
   "source": [
    "!ls ../input"
   ]
  },
  {
   "cell_type": "code",
   "execution_count": 10,
   "metadata": {
    "collapsed": false
   },
   "outputs": [
    {
     "name": "stdout",
     "output_type": "stream",
     "text": [
      "District,PSA,Dispatch Date/Time,Dispatch Date,Dispatch Time,Hour,DC Number,Location Block,UCR Code,General Crime Category,Shape,Police Districts\r\n",
      "18,3,10/02/2009 02:24:00 PM,2009-10-02,14:24:00,14,200918067518,S 38TH ST  / MARKETUT ST,800,Other Assaults,,\r\n",
      "14,1,05/10/2009 12:55:00 AM,2009-05-10,00:55:00,0,200914033994,8500 BLOCK MITCH,2600,All Other Offenses,,\r\n",
      "25,J,08/07/2009 03:40:00 PM,2009-08-07,15:40:00,15,200925083199,6TH CAMBRIA,800,Other Assaults,,\r\n",
      "35,D,07/19/2009 01:09:00 AM,2009-07-19,01:09:00,1,200935061008,5500 BLOCK N 5TH ST,1500,Weapon Violations,POINT (-75.130477 40.036389),20\r\n",
      "09,R,06/25/2009 12:14:00 AM,2009-06-25,00:14:00,0,200909030511,1800 BLOCK WYLIE ST,2600,All Other Offenses,POINT (-75.16635 39.969532),8\r\n",
      "17,1,04/25/2015 12:50:00 PM,2015-04-25,12:50:00,12,201517017705,800 BLOCK S BROAD ST,600,Thefts,POINT (-75.166412 39.94007),13\r\n",
      "23,K,02/10/2009 02:33:00 PM,2009-02-10,14:33:00,14,200923006310,2200 BLOCK RIDGE AVE,800,Other Assaults,POINT (-75.171149 39.979586),16\r\n",
      "77,A,04/02/2009 06:30:00 PM,2009-04-02,18:30:00,18,200977001770,TERMINAL A W,500,Burglary Non-Residential,,\r\n",
      "35,D,03/18/2009 01:14:00 AM,2009-03-18,01:14:00,1,200935021299,N 5TH SOMMERVILLE,2600,All Other Offenses,,\r\n"
     ]
    }
   ],
   "source": [
    "!head ../input/PPD_Crime_Incidents_2006-Present.csv\n"
   ]
  },
  {
   "cell_type": "code",
   "execution_count": 16,
   "metadata": {
    "collapsed": false
   },
   "outputs": [
    {
     "name": "stdout",
     "output_type": "stream",
     "text": [
      "911.csv\n",
      "PP.csv\n",
      "PPD_Crime_Incidents_2006-Present.csv\n",
      "PPnh.csv\n",
      "_load.sql\n",
      "crime.csv\n",
      "crime.csv.zip\n",
      "crime_db.sqlite\n",
      "database.sqlite\n",
      "stack.csv\n",
      "test.csv\n",
      "\n"
     ]
    }
   ],
   "source": [
    "import numpy as np \n",
    "import pandas as pd \n",
    "import datetime\n",
    "\n",
    "\n",
    "from subprocess import check_output\n",
    "print(check_output([\"ls\", \"../input\"]).decode(\"utf8\"))\n",
    "\n",
    "\n",
    "\n",
    "dateparse = lambda x: datetime.datetime.strptime(x,'%m/%d/%Y %I:%M:%S %p')\n",
    "\n",
    "\n",
    "\n",
    "FILE=\"../input/PPD_Crime_Incidents_2006-Present.csv\"\n",
    "\n",
    "\n",
    "d=pd.read_csv(FILE,\n",
    "  header=0,names=['DC_DIST','PSA','DISPATCH_DATE_TIME','DISPATCH_DATE',\n",
    "                  'DISPATCH_TIME','HOUR_','DC_KEY',\n",
    "                  'LOCATION_BLOCK','UCR_GENERAL','TEXT_GENERAL_CODE','SHAPE',\n",
    "                  'Police Districts'],dtype={'DC_DIST':str,'PSA':str,\n",
    "                'DISPATCH_DATE_TIME':str,'DISPATCH_DATE':str,'DISPATCH_TIME':str,\n",
    "                  'HOUR_':str,'DC_KEY':str,'LOCATION_BLOCK':str,'UCR_GENERAL':str,'TEXT_GENERAL_CODE':str,\n",
    "              'SHAPE':str,'Police Districts':str},\n",
    "             parse_dates=['DISPATCH_DATE_TIME'],date_parser=dateparse)\n",
    "\n",
    "\n",
    "\n",
    "\n",
    "d['MONTH']=d['DISPATCH_DATE_TIME'].apply(lambda x: x.strftime('%Y-%m'))\n",
    "d['SHAPE']=d['SHAPE'].apply(lambda x: str(x).replace('POINT (','').replace(')','').strip().split(' '))\n",
    "\n",
    "\n"
   ]
  },
  {
   "cell_type": "code",
   "execution_count": 17,
   "metadata": {
    "collapsed": false
   },
   "outputs": [],
   "source": [
    "def fixB(n,m):\n",
    "    if len(n) == 1:\n",
    "        return ''\n",
    "    return n[m]\n",
    "\n",
    "d['LON']=d['SHAPE'].apply(lambda x: fixB(x,0))\n",
    "d['LAT']=d['SHAPE'].apply(lambda x: fixB(x,1))    "
   ]
  },
  {
   "cell_type": "code",
   "execution_count": 12,
   "metadata": {
    "collapsed": true
   },
   "outputs": [],
   "source": []
  },
  {
   "cell_type": "code",
   "execution_count": 18,
   "metadata": {
    "collapsed": false
   },
   "outputs": [],
   "source": [
    "d.columns = ['Dc_Dist', 'Psa', 'Dispatch_Date_Time', 'Dispatch_Date',\n",
    "       'Dispatch_Time', 'Hour', 'Dc_Key', 'Location_Block', 'UCR_General',\n",
    "              'Text_General_Code', 'Shape', 'Police_Districts', 'Month', 'Lon',\n",
    "                     'Lat']"
   ]
  },
  {
   "cell_type": "code",
   "execution_count": 14,
   "metadata": {
    "collapsed": false
   },
   "outputs": [
    {
     "data": {
      "text/plain": [
       "Index(['Dc_Dist', 'Psa', 'Dispatch_Date_Time', 'Dispatch_Date',\n",
       "       'Dispatch_Time', 'Hour', 'Dc_Key', 'Location_Block', 'UCR_General',\n",
       "       'Text_General_Code', 'Shape', 'Police_Districts', 'Month', 'Lon',\n",
       "       'Lat'],\n",
       "      dtype='object')"
      ]
     },
     "execution_count": 14,
     "metadata": {},
     "output_type": "execute_result"
    }
   ],
   "source": [
    "d.columns"
   ]
  },
  {
   "cell_type": "code",
   "execution_count": null,
   "metadata": {
    "collapsed": true
   },
   "outputs": [],
   "source": [
    "d[['Dc_Dist', 'Psa', 'Dispatch_Date_Time', 'Dispatch_Date',\n",
    "       'Dispatch_Time', 'Hour', 'Dc_Key', 'Location_Block', 'UCR_General',\n",
    "       'Text_General_Code',  'Police_Districts', 'Month', 'Lon',\n",
    "       'Lat']].to_csv('../input/crime.csv',index=False,header=True)"
   ]
  },
  {
   "cell_type": "code",
   "execution_count": 15,
   "metadata": {
    "collapsed": false
   },
   "outputs": [
    {
     "data": {
      "text/html": [
       "<div>\n",
       "<table border=\"1\" class=\"dataframe\">\n",
       "  <thead>\n",
       "    <tr style=\"text-align: right;\">\n",
       "      <th></th>\n",
       "      <th>Dc_Dist</th>\n",
       "      <th>Psa</th>\n",
       "      <th>Dispatch_Date_Time</th>\n",
       "      <th>Dispatch_Date</th>\n",
       "      <th>Dispatch_Time</th>\n",
       "      <th>Hour</th>\n",
       "      <th>Dc_Key</th>\n",
       "      <th>Location_Block</th>\n",
       "      <th>UCR_General</th>\n",
       "      <th>Text_General_Code</th>\n",
       "      <th>Shape</th>\n",
       "      <th>Police_Districts</th>\n",
       "      <th>Month</th>\n",
       "      <th>Lon</th>\n",
       "      <th>Lat</th>\n",
       "    </tr>\n",
       "  </thead>\n",
       "  <tbody>\n",
       "    <tr>\n",
       "      <th>0</th>\n",
       "      <td>18</td>\n",
       "      <td>3</td>\n",
       "      <td>2009-10-02 02:24:00</td>\n",
       "      <td>2009-10-02</td>\n",
       "      <td>14:24:00</td>\n",
       "      <td>14</td>\n",
       "      <td>200918067518</td>\n",
       "      <td>S 38TH ST  / MARKETUT ST</td>\n",
       "      <td>800</td>\n",
       "      <td>Other Assaults</td>\n",
       "      <td>[nan]</td>\n",
       "      <td>NaN</td>\n",
       "      <td>2009-10</td>\n",
       "      <td></td>\n",
       "      <td></td>\n",
       "    </tr>\n",
       "    <tr>\n",
       "      <th>1</th>\n",
       "      <td>14</td>\n",
       "      <td>1</td>\n",
       "      <td>2009-05-10 12:55:00</td>\n",
       "      <td>2009-05-10</td>\n",
       "      <td>00:55:00</td>\n",
       "      <td>0</td>\n",
       "      <td>200914033994</td>\n",
       "      <td>8500 BLOCK MITCH</td>\n",
       "      <td>2600</td>\n",
       "      <td>All Other Offenses</td>\n",
       "      <td>[nan]</td>\n",
       "      <td>NaN</td>\n",
       "      <td>2009-05</td>\n",
       "      <td></td>\n",
       "      <td></td>\n",
       "    </tr>\n",
       "    <tr>\n",
       "      <th>2</th>\n",
       "      <td>25</td>\n",
       "      <td>J</td>\n",
       "      <td>2009-08-07 03:40:00</td>\n",
       "      <td>2009-08-07</td>\n",
       "      <td>15:40:00</td>\n",
       "      <td>15</td>\n",
       "      <td>200925083199</td>\n",
       "      <td>6TH CAMBRIA</td>\n",
       "      <td>800</td>\n",
       "      <td>Other Assaults</td>\n",
       "      <td>[nan]</td>\n",
       "      <td>NaN</td>\n",
       "      <td>2009-08</td>\n",
       "      <td></td>\n",
       "      <td></td>\n",
       "    </tr>\n",
       "    <tr>\n",
       "      <th>3</th>\n",
       "      <td>35</td>\n",
       "      <td>D</td>\n",
       "      <td>2009-07-19 01:09:00</td>\n",
       "      <td>2009-07-19</td>\n",
       "      <td>01:09:00</td>\n",
       "      <td>1</td>\n",
       "      <td>200935061008</td>\n",
       "      <td>5500 BLOCK N 5TH ST</td>\n",
       "      <td>1500</td>\n",
       "      <td>Weapon Violations</td>\n",
       "      <td>[-75.130477, 40.036389]</td>\n",
       "      <td>20</td>\n",
       "      <td>2009-07</td>\n",
       "      <td>-75.130477</td>\n",
       "      <td>40.036389</td>\n",
       "    </tr>\n",
       "    <tr>\n",
       "      <th>4</th>\n",
       "      <td>09</td>\n",
       "      <td>R</td>\n",
       "      <td>2009-06-25 12:14:00</td>\n",
       "      <td>2009-06-25</td>\n",
       "      <td>00:14:00</td>\n",
       "      <td>0</td>\n",
       "      <td>200909030511</td>\n",
       "      <td>1800 BLOCK WYLIE ST</td>\n",
       "      <td>2600</td>\n",
       "      <td>All Other Offenses</td>\n",
       "      <td>[-75.16635, 39.969532]</td>\n",
       "      <td>8</td>\n",
       "      <td>2009-06</td>\n",
       "      <td>-75.16635</td>\n",
       "      <td>39.969532</td>\n",
       "    </tr>\n",
       "  </tbody>\n",
       "</table>\n",
       "</div>"
      ],
      "text/plain": [
       "  Dc_Dist Psa  Dispatch_Date_Time Dispatch_Date Dispatch_Time Hour  \\\n",
       "0      18   3 2009-10-02 02:24:00    2009-10-02      14:24:00   14   \n",
       "1      14   1 2009-05-10 12:55:00    2009-05-10      00:55:00    0   \n",
       "2      25   J 2009-08-07 03:40:00    2009-08-07      15:40:00   15   \n",
       "3      35   D 2009-07-19 01:09:00    2009-07-19      01:09:00    1   \n",
       "4      09   R 2009-06-25 12:14:00    2009-06-25      00:14:00    0   \n",
       "\n",
       "         Dc_Key            Location_Block UCR_General   Text_General_Code  \\\n",
       "0  200918067518  S 38TH ST  / MARKETUT ST         800      Other Assaults   \n",
       "1  200914033994          8500 BLOCK MITCH        2600  All Other Offenses   \n",
       "2  200925083199               6TH CAMBRIA         800      Other Assaults   \n",
       "3  200935061008       5500 BLOCK N 5TH ST        1500   Weapon Violations   \n",
       "4  200909030511       1800 BLOCK WYLIE ST        2600  All Other Offenses   \n",
       "\n",
       "                     Shape Police_Districts    Month         Lon        Lat  \n",
       "0                    [nan]              NaN  2009-10                         \n",
       "1                    [nan]              NaN  2009-05                         \n",
       "2                    [nan]              NaN  2009-08                         \n",
       "3  [-75.130477, 40.036389]               20  2009-07  -75.130477  40.036389  \n",
       "4   [-75.16635, 39.969532]                8  2009-06   -75.16635  39.969532  "
      ]
     },
     "execution_count": 15,
     "metadata": {},
     "output_type": "execute_result"
    }
   ],
   "source": [
    "d.head()"
   ]
  }
 ],
 "metadata": {
  "anaconda-cloud": {},
  "kernelspec": {
   "display_name": "Python [Root]",
   "language": "python",
   "name": "Python [Root]"
  },
  "language_info": {
   "codemirror_mode": {
    "name": "ipython",
    "version": 3
   },
   "file_extension": ".py",
   "mimetype": "text/x-python",
   "name": "python",
   "nbconvert_exporter": "python",
   "pygments_lexer": "ipython3",
   "version": "3.5.2"
  }
 },
 "nbformat": 4,
 "nbformat_minor": 0
}
